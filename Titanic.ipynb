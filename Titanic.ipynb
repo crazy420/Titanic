{
 "metadata": {
  "name": "",
  "signature": "sha256:720b444d9279e6564bb4f91e44a59be410bdba73e3945217ff64d3ef14e0e91c"
 },
 "nbformat": 3,
 "nbformat_minor": 0,
 "worksheets": [
  {
   "cells": [
    {
     "cell_type": "code",
     "collapsed": false,
     "input": [
      "#importing useful libraries\n",
      "import csv\n",
      "from scipy import sparse\n",
      "import numpy as np\n",
      "from sklearn.naive_bayes import BernoulliNB"
     ],
     "language": "python",
     "metadata": {},
     "outputs": [],
     "prompt_number": 1
    },
    {
     "cell_type": "code",
     "collapsed": false,
     "input": [
      "traindata = [] #list to store training data\n",
      "with open('train.csv') as f:\n",
      "    reader = csv.reader(f)\n",
      "    for row in reader:\n",
      "        traindata.append(row)\n",
      "del traindata[0] #deleting 1st row because first row contains attribute names "
     ],
     "language": "python",
     "metadata": {},
     "outputs": [],
     "prompt_number": 2
    },
    {
     "cell_type": "code",
     "collapsed": false,
     "input": [
      "testdata = [] #list to store test data\n",
      "with open('test.csv') as f:\n",
      "    reader = csv.reader(f)\n",
      "    for row in reader:\n",
      "        testdata.append(row)\n",
      "del testdata[0] #deleting 1st row because first row contains attribute names"
     ],
     "language": "python",
     "metadata": {},
     "outputs": [],
     "prompt_number": 3
    },
    {
     "cell_type": "code",
     "collapsed": false,
     "input": [
      "#List's for training data\n",
      "trSex =[]\n",
      "trPclass=[]\n",
      "trage=[]\n",
      "trsiblings=[]\n",
      "trparents=[]\n",
      "#trfare=[]\n",
      "trembarkment=[]\n",
      "trlabels=[]\n",
      "\n",
      "#List's for test data\n",
      "tsSex= []\n",
      "tsPclass=[]\n",
      "tsage=[]\n",
      "tssiblings=[]\n",
      "tsparents=[]\n",
      "#tsfare=[]\n",
      "tsembarkment=[]\n",
      "\n",
      "#We are using attributes which can be useful in either quantifying or categorising."
     ],
     "language": "python",
     "metadata": {},
     "outputs": [],
     "prompt_number": 4
    },
    {
     "cell_type": "code",
     "collapsed": false,
     "input": [
      "for d in traindata: #getting lists for ready for training data\n",
      "    if(d[4] is 'male'):\n",
      "        k=1\n",
      "    else:\n",
      "        k=2\n",
      "    trSex.append(k)\n",
      "    trPclass.append(int(d[2]))\n",
      "    try: \n",
      "     float(d[5])\n",
      "     k=float(d[5])\n",
      "    except: \n",
      "     k = .0\n",
      "    trage.append(k)\n",
      "    if(d[11] is 'C'):\n",
      "     k=1\n",
      "    elif(d[11] is 'S'):\n",
      "     k=2\n",
      "    elif(d[11] is 'Q'):\n",
      "     k=3\n",
      "    else:\n",
      "     k=0\n",
      "    trsiblings.append(int(d[6]))\n",
      "    trparents.append(int(d[7]))\n",
      "    #trfare.append(float(d[9]))\n",
      "    trembarkment.append(k)\n",
      "    trlabels.append(int(d[1]))"
     ],
     "language": "python",
     "metadata": {},
     "outputs": [],
     "prompt_number": 5
    },
    {
     "cell_type": "code",
     "collapsed": false,
     "input": [
      "np.array(trembarkment).shape"
     ],
     "language": "python",
     "metadata": {},
     "outputs": [
      {
       "metadata": {},
       "output_type": "pyout",
       "prompt_number": 6,
       "text": [
        "(891L,)"
       ]
      }
     ],
     "prompt_number": 6
    },
    {
     "cell_type": "code",
     "collapsed": false,
     "input": [
      "from scipy import sparse"
     ],
     "language": "python",
     "metadata": {},
     "outputs": [],
     "prompt_number": 7
    },
    {
     "cell_type": "code",
     "collapsed": false,
     "input": [
      "ts_cutoff=755\n",
      "test_size = len(traindata) - ts_cutoff\n",
      "#Sparse martix for Pclass\n",
      "fts1 = sparse.csr_matrix((trPclass[:ts_cutoff], (np.arange(ts_cutoff),np.zeros(ts_cutoff))))\n",
      "test_fts1 = sparse.csr_matrix((trPclass[ts_cutoff:], (np.arange(test_size),np.zeros(test_size))))\n",
      "#print test_size"
     ],
     "language": "python",
     "metadata": {},
     "outputs": [],
     "prompt_number": 8
    },
    {
     "cell_type": "code",
     "collapsed": false,
     "input": [
      "#Sparse martix for training age\n",
      "fts2 = sparse.csr_matrix((trage[:ts_cutoff], (np.arange(ts_cutoff),np.zeros(ts_cutoff))))\n",
      "test_fts2 = sparse.csr_matrix((trage[ts_cutoff:], (np.arange(test_size),np.zeros(test_size))))"
     ],
     "language": "python",
     "metadata": {},
     "outputs": [],
     "prompt_number": 9
    },
    {
     "cell_type": "code",
     "collapsed": false,
     "input": [
      "#Sparse matrix for training siblings\n",
      "fts3 = sparse.csr_matrix((trsiblings[:ts_cutoff], (np.arange(ts_cutoff),np.zeros(ts_cutoff))))\n",
      "test_fts3 = sparse.csr_matrix((trsiblings[ts_cutoff:], (np.arange(test_size),np.zeros(test_size))))"
     ],
     "language": "python",
     "metadata": {},
     "outputs": [],
     "prompt_number": 10
    },
    {
     "cell_type": "code",
     "collapsed": false,
     "input": [
      "#Sparse matrix for training parents\n",
      "fts4 = sparse.csr_matrix((trparents[:ts_cutoff], (np.arange(ts_cutoff),np.zeros(ts_cutoff))))\n",
      "test_fts4 = sparse.csr_matrix((trparents[ts_cutoff:], (np.arange(test_size),np.zeros(test_size))))"
     ],
     "language": "python",
     "metadata": {},
     "outputs": [],
     "prompt_number": 11
    },
    {
     "cell_type": "code",
     "collapsed": false,
     "input": [
      "#Sparse matrix for training fare\n",
      "#fts5 = sparse.csr_matrix((trfare[:ts_cutoff], (np.arange(ts_cutoff),np.zeros(ts_cutoff))))\n",
      "#test_fts5 = sparse.csr_matrix((trfare[ts_cutoff:], (np.arange(test_size),np.zeros(test_size))))"
     ],
     "language": "python",
     "metadata": {},
     "outputs": [],
     "prompt_number": 12
    },
    {
     "cell_type": "code",
     "collapsed": false,
     "input": [
      "#Sparse matrix for training embarkment\n",
      "print type(trembarkment)\n",
      "fts6 = sparse.csr_matrix((trembarkment[:ts_cutoff], (np.arange(ts_cutoff),np.zeros(ts_cutoff))))\n",
      "test_fts6 = sparse.csr_matrix((trembarkment[ts_cutoff:], (np.arange(test_size),np.zeros(test_size))))"
     ],
     "language": "python",
     "metadata": {},
     "outputs": [
      {
       "output_type": "stream",
       "stream": "stdout",
       "text": [
        "<type 'list'>\n"
       ]
      }
     ],
     "prompt_number": 13
    },
    {
     "cell_type": "code",
     "collapsed": false,
     "input": [
      "#Sparse matrix for training Sex\n",
      "print type(trSex)\n",
      "fts7 = sparse.csr_matrix((trSex[:ts_cutoff], (np.arange(ts_cutoff),np.zeros(ts_cutoff))))\n",
      "test_fts7 = sparse.csr_matrix((trSex[ts_cutoff:], (np.arange(test_size),np.zeros(test_size))))"
     ],
     "language": "python",
     "metadata": {},
     "outputs": [
      {
       "output_type": "stream",
       "stream": "stdout",
       "text": [
        "<type 'list'>\n"
       ]
      }
     ],
     "prompt_number": 14
    },
    {
     "cell_type": "code",
     "collapsed": false,
     "input": [
      "X = sparse.hstack((fts1,fts2,fts3,fts4,fts6,fts7), format='csr') #removed fts5\n",
      "test_X = sparse.hstack((test_fts1,test_fts2,test_fts3,test_fts4,test_fts6,test_fts7), format='csr') #removed test_fts5"
     ],
     "language": "python",
     "metadata": {},
     "outputs": [],
     "prompt_number": 15
    },
    {
     "cell_type": "code",
     "collapsed": false,
     "input": [
      "print X.shape"
     ],
     "language": "python",
     "metadata": {},
     "outputs": [
      {
       "output_type": "stream",
       "stream": "stdout",
       "text": [
        "(755, 6)\n"
       ]
      }
     ],
     "prompt_number": 16
    },
    {
     "cell_type": "code",
     "collapsed": false,
     "input": [
      "y = np.array(trlabels[:ts_cutoff])\n",
      "test_y = np.array(trlabels[ts_cutoff:])"
     ],
     "language": "python",
     "metadata": {},
     "outputs": [],
     "prompt_number": 17
    },
    {
     "cell_type": "code",
     "collapsed": false,
     "input": [
      "print y.shape\n",
      "print test_y.shape"
     ],
     "language": "python",
     "metadata": {},
     "outputs": [
      {
       "output_type": "stream",
       "stream": "stdout",
       "text": [
        "(755L,)\n",
        "(136L,)\n"
       ]
      }
     ],
     "prompt_number": 18
    },
    {
     "cell_type": "code",
     "collapsed": false,
     "input": [
      "clf = BernoulliNB()"
     ],
     "language": "python",
     "metadata": {},
     "outputs": [],
     "prompt_number": 19
    },
    {
     "cell_type": "code",
     "collapsed": false,
     "input": [
      "clf.fit(X,y)"
     ],
     "language": "python",
     "metadata": {},
     "outputs": [
      {
       "metadata": {},
       "output_type": "pyout",
       "prompt_number": 20,
       "text": [
        "BernoulliNB(alpha=1.0, binarize=0.0, class_prior=None, fit_prior=True)"
       ]
      }
     ],
     "prompt_number": 20
    },
    {
     "cell_type": "code",
     "collapsed": false,
     "input": [
      "y_pred = clf.predict(test_X)"
     ],
     "language": "python",
     "metadata": {},
     "outputs": [],
     "prompt_number": 21
    },
    {
     "cell_type": "code",
     "collapsed": false,
     "input": [
      "print \"accuracy of prediction by using naive bayes algorithm : \"  \n",
      "np.mean(test_y == y_pred)*100"
     ],
     "language": "python",
     "metadata": {},
     "outputs": [
      {
       "output_type": "stream",
       "stream": "stdout",
       "text": [
        "accuracy of prediction by using naive bayes algorithm : \n"
       ]
      },
      {
       "metadata": {},
       "output_type": "pyout",
       "prompt_number": 22,
       "text": [
        "68.382352941176478"
       ]
      }
     ],
     "prompt_number": 22
    },
    {
     "cell_type": "code",
     "collapsed": false,
     "input": [
      "from sklearn.linear_model import LogisticRegression\n",
      "lrclf = LogisticRegression()\n",
      "lrclf.fit(X,y)"
     ],
     "language": "python",
     "metadata": {},
     "outputs": [
      {
       "metadata": {},
       "output_type": "pyout",
       "prompt_number": 23,
       "text": [
        "LogisticRegression(C=1.0, class_weight=None, dual=False, fit_intercept=True,\n",
        "          intercept_scaling=1, penalty='l2', random_state=None, tol=0.0001)"
       ]
      }
     ],
     "prompt_number": 23
    },
    {
     "cell_type": "code",
     "collapsed": false,
     "input": [
      "y_pred_lr = lrclf.predict(test_X)"
     ],
     "language": "python",
     "metadata": {},
     "outputs": [],
     "prompt_number": 24
    },
    {
     "cell_type": "code",
     "collapsed": false,
     "input": [
      "np.mean(test_y == y_pred_lr)"
     ],
     "language": "python",
     "metadata": {},
     "outputs": [
      {
       "metadata": {},
       "output_type": "pyout",
       "prompt_number": 25,
       "text": [
        "0.75735294117647056"
       ]
      }
     ],
     "prompt_number": 25
    },
    {
     "cell_type": "code",
     "collapsed": false,
     "input": [
      "from sklearn import tree\n",
      "treeclf = tree.DecisionTreeClassifier()\n",
      "treeclf.fit(X.toarray(),y)"
     ],
     "language": "python",
     "metadata": {},
     "outputs": [
      {
       "metadata": {},
       "output_type": "pyout",
       "prompt_number": 26,
       "text": [
        "DecisionTreeClassifier(compute_importances=None, criterion='gini',\n",
        "            max_depth=None, max_features=None, max_leaf_nodes=None,\n",
        "            min_density=None, min_samples_leaf=1, min_samples_split=2,\n",
        "            random_state=None, splitter='best')"
       ]
      }
     ],
     "prompt_number": 26
    },
    {
     "cell_type": "code",
     "collapsed": false,
     "input": [
      "y_pred_tree = treeclf.predict(test_X.toarray())"
     ],
     "language": "python",
     "metadata": {},
     "outputs": [],
     "prompt_number": 27
    },
    {
     "cell_type": "code",
     "collapsed": false,
     "input": [
      "np.mean(test_y == y_pred_tree)"
     ],
     "language": "python",
     "metadata": {},
     "outputs": [
      {
       "metadata": {},
       "output_type": "pyout",
       "prompt_number": 28,
       "text": [
        "0.7279411764705882"
       ]
      }
     ],
     "prompt_number": 28
    },
    {
     "cell_type": "code",
     "collapsed": false,
     "input": [
      "from sklearn import svm\n",
      "from sklearn.feature_selection import SelectKBest\n",
      "from sklearn.feature_selection import f_regression\n",
      "from sklearn.pipeline import Pipeline\n",
      "best_filter = SelectKBest(f_regression, k=3)\n",
      "clf1 = svm.SVC(kernel='linear')\n",
      "clf = Pipeline([\n",
      "  ('feature_selection', best_filter),\n",
      "  ('svc', clf1)\n",
      "])\n",
      "clf.fit(X.toarray(), y)"
     ],
     "language": "python",
     "metadata": {},
     "outputs": [
      {
       "output_type": "stream",
       "stream": "stderr",
       "text": [
        "C:\\Anaconda\\lib\\site-packages\\sklearn\\feature_selection\\univariate_selection.py:250: RuntimeWarning: invalid value encountered in divide\n",
        "  corr /= np.asarray(np.sqrt(safe_sqr(X).sum(axis=0))).ravel()\n",
        "C:\\Anaconda\\lib\\site-packages\\scipy\\stats\\_distn_infrastructure.py:1718: RuntimeWarning: invalid value encountered in greater\n",
        "  cond1 = (scale > 0) & (x > self.a) & (x < self.b)\n",
        "C:\\Anaconda\\lib\\site-packages\\scipy\\stats\\_distn_infrastructure.py:1718: RuntimeWarning: invalid value encountered in less\n",
        "  cond1 = (scale > 0) & (x > self.a) & (x < self.b)\n",
        "C:\\Anaconda\\lib\\site-packages\\scipy\\stats\\_distn_infrastructure.py:1719: RuntimeWarning: invalid value encountered in less_equal\n",
        "  cond2 = cond0 & (x <= self.a)\n"
       ]
      },
      {
       "metadata": {},
       "output_type": "pyout",
       "prompt_number": 29,
       "text": [
        "Pipeline(steps=[('feature_selection', SelectKBest(k=3, score_func=<function f_regression at 0x0000000012EDEE48>)), ('svc', SVC(C=1.0, cache_size=200, class_weight=None, coef0=0.0, degree=3, gamma=0.0,\n",
        "  kernel='linear', max_iter=-1, probability=False, random_state=None,\n",
        "  shrinking=True, tol=0.001, verbose=False))])"
       ]
      }
     ],
     "prompt_number": 29
    },
    {
     "cell_type": "code",
     "collapsed": false,
     "input": [
      "y_pred_pipline = clf.predict(test_X.toarray())"
     ],
     "language": "python",
     "metadata": {},
     "outputs": [],
     "prompt_number": 30
    },
    {
     "cell_type": "code",
     "collapsed": false,
     "input": [
      "np.mean(test_y == y_pred_tree)"
     ],
     "language": "python",
     "metadata": {},
     "outputs": [
      {
       "metadata": {},
       "output_type": "pyout",
       "prompt_number": 31,
       "text": [
        "0.7279411764705882"
       ]
      }
     ],
     "prompt_number": 31
    },
    {
     "cell_type": "markdown",
     "metadata": {},
     "source": [
      "*Now that we have tested few algorithms, its time to create result data in order to submit in kaggle. Looks like logical regression is giving more accuracy.*"
     ]
    },
    {
     "cell_type": "code",
     "collapsed": false,
     "input": [
      "ts_cutoff=len(traindata)\n",
      "#Sparse martix for Pclass\n",
      "fts1 = sparse.csr_matrix((trPclass[:ts_cutoff], (np.arange(ts_cutoff),np.zeros(ts_cutoff))))\n",
      "fts2 = sparse.csr_matrix((trage[:ts_cutoff], (np.arange(ts_cutoff),np.zeros(ts_cutoff))))\n",
      "fts3 = sparse.csr_matrix((trsiblings[:ts_cutoff], (np.arange(ts_cutoff),np.zeros(ts_cutoff))))\n",
      "fts4 = sparse.csr_matrix((trparents[:ts_cutoff], (np.arange(ts_cutoff),np.zeros(ts_cutoff))))\n",
      "#fts5 = sparse.csr_matrix((trfare[:ts_cutoff], (np.arange(ts_cutoff),np.zeros(ts_cutoff))))\n",
      "fts6 = sparse.csr_matrix((trembarkment[:ts_cutoff], (np.arange(ts_cutoff),np.zeros(ts_cutoff))))\n",
      "fts7 = sparse.csr_matrix((trage[:ts_cutoff], (np.arange(ts_cutoff),np.zeros(ts_cutoff))))"
     ],
     "language": "python",
     "metadata": {},
     "outputs": [],
     "prompt_number": 32
    },
    {
     "cell_type": "code",
     "collapsed": false,
     "input": [
      "X = sparse.hstack((fts1,fts2,fts3,fts4,fts6,fts7), format='csr') #final training data matrix and removed fts5"
     ],
     "language": "python",
     "metadata": {},
     "outputs": [],
     "prompt_number": 33
    },
    {
     "cell_type": "code",
     "collapsed": false,
     "input": [
      "y = np.array(trlabels[:ts_cutoff]) "
     ],
     "language": "python",
     "metadata": {},
     "outputs": [],
     "prompt_number": 34
    },
    {
     "cell_type": "code",
     "collapsed": false,
     "input": [
      "tslabels = []\n",
      "for d in testdata: #getting lists for ready for training data\n",
      "    tsPclass.append(int(d[1]))\n",
      "    try: \n",
      "     float(d[4])\n",
      "     k=float(d[4])\n",
      "    except: \n",
      "     k = .0\n",
      "    tsage.append(k)\n",
      "    if(d[10] is 'C'):\n",
      "     k=1\n",
      "    elif(d[10] is 'S'):\n",
      "     k=2\n",
      "    elif(d[10] is 'Q'):\n",
      "     k=3\n",
      "    else:\n",
      "     k=0\n",
      "    tssiblings.append(int(d[5]))\n",
      "    tsparents.append(int(d[6]))\n",
      "    #k1 = float(d[8]) if '.' in d[8] else 0.0\n",
      "    #tsfare.append(k1)\n",
      "    tsembarkment.append(k)\n",
      "    tslabels.append(int(d[0]))\n",
      "    if(d[3] is 'male'):\n",
      "        k=1\n",
      "    else:\n",
      "        k=2\n",
      "    tsSex.append(k)\n",
      "print len(tsage)"
     ],
     "language": "python",
     "metadata": {},
     "outputs": [
      {
       "output_type": "stream",
       "stream": "stdout",
       "text": [
        "418\n"
       ]
      }
     ],
     "prompt_number": 35
    },
    {
     "cell_type": "code",
     "collapsed": false,
     "input": [
      "ts_cutoff=0\n",
      "test_size = len(testdata) - ts_cutoff\n",
      "print len(tsPclass)\n",
      "test_fts1 = sparse.csr_matrix((tsPclass[ts_cutoff:], (np.arange(test_size),np.zeros(test_size))))"
     ],
     "language": "python",
     "metadata": {},
     "outputs": [
      {
       "output_type": "stream",
       "stream": "stdout",
       "text": [
        "418\n"
       ]
      }
     ],
     "prompt_number": 36
    },
    {
     "cell_type": "code",
     "collapsed": false,
     "input": [
      "test_fts2 = sparse.csr_matrix((tsage[ts_cutoff:], (np.arange(test_size),np.zeros(test_size))))"
     ],
     "language": "python",
     "metadata": {},
     "outputs": [],
     "prompt_number": 37
    },
    {
     "cell_type": "code",
     "collapsed": false,
     "input": [
      "test_fts3 = sparse.csr_matrix((tssiblings[ts_cutoff:], (np.arange(test_size),np.zeros(test_size))))"
     ],
     "language": "python",
     "metadata": {},
     "outputs": [],
     "prompt_number": 38
    },
    {
     "cell_type": "code",
     "collapsed": false,
     "input": [
      "test_fts4 = sparse.csr_matrix((tsparents[ts_cutoff:], (np.arange(test_size),np.zeros(test_size))))"
     ],
     "language": "python",
     "metadata": {},
     "outputs": [],
     "prompt_number": 39
    },
    {
     "cell_type": "code",
     "collapsed": false,
     "input": [
      "#test_fts5 = sparse.csr_matrix((tsfare[ts_cutoff:], (np.arange(test_size),np.zeros(test_size))))"
     ],
     "language": "python",
     "metadata": {},
     "outputs": [],
     "prompt_number": 40
    },
    {
     "cell_type": "code",
     "collapsed": false,
     "input": [
      "test_fts6 = sparse.csr_matrix((tsembarkment[ts_cutoff:], (np.arange(test_size),np.zeros(test_size))))"
     ],
     "language": "python",
     "metadata": {},
     "outputs": [],
     "prompt_number": 41
    },
    {
     "cell_type": "code",
     "collapsed": false,
     "input": [
      "test_fts7 = sparse.csr_matrix((tsSex[ts_cutoff:], (np.arange(test_size),np.zeros(test_size))))"
     ],
     "language": "python",
     "metadata": {},
     "outputs": [],
     "prompt_number": 42
    },
    {
     "cell_type": "code",
     "collapsed": false,
     "input": [
      "#final test data matrix\n",
      "test_X = sparse.hstack((test_fts1,test_fts2,test_fts3,test_fts4,test_fts6,test_fts7), format='csr')#remove test_fts5"
     ],
     "language": "python",
     "metadata": {},
     "outputs": [],
     "prompt_number": 43
    },
    {
     "cell_type": "code",
     "collapsed": false,
     "input": [
      "from sklearn.linear_model import LogisticRegression\n",
      "lrclf = LogisticRegression()\n",
      "lrclf.fit(X,y)"
     ],
     "language": "python",
     "metadata": {},
     "outputs": [
      {
       "metadata": {},
       "output_type": "pyout",
       "prompt_number": 44,
       "text": [
        "LogisticRegression(C=1.0, class_weight=None, dual=False, fit_intercept=True,\n",
        "          intercept_scaling=1, penalty='l2', random_state=None, tol=0.0001)"
       ]
      }
     ],
     "prompt_number": 44
    },
    {
     "cell_type": "code",
     "collapsed": false,
     "input": [
      "y_pred_lr = lrclf.predict(test_X) #results"
     ],
     "language": "python",
     "metadata": {},
     "outputs": [],
     "prompt_number": 45
    },
    {
     "cell_type": "code",
     "collapsed": false,
     "input": [
      "print len(y_pred_lr)"
     ],
     "language": "python",
     "metadata": {},
     "outputs": [
      {
       "output_type": "stream",
       "stream": "stdout",
       "text": [
        "418\n"
       ]
      }
     ],
     "prompt_number": 46
    },
    {
     "cell_type": "code",
     "collapsed": false,
     "input": [
      "print type(y_pred_lr)"
     ],
     "language": "python",
     "metadata": {},
     "outputs": [
      {
       "output_type": "stream",
       "stream": "stdout",
       "text": [
        "<type 'numpy.ndarray'>\n"
       ]
      }
     ],
     "prompt_number": 47
    },
    {
     "cell_type": "code",
     "collapsed": false,
     "input": [
      "print type(tslabels)"
     ],
     "language": "python",
     "metadata": {},
     "outputs": [
      {
       "output_type": "stream",
       "stream": "stdout",
       "text": [
        "<type 'list'>\n"
       ]
      }
     ],
     "prompt_number": 48
    },
    {
     "cell_type": "code",
     "collapsed": false,
     "input": [
      "x = np.array(tslabels)"
     ],
     "language": "python",
     "metadata": {},
     "outputs": [],
     "prompt_number": 49
    },
    {
     "cell_type": "code",
     "collapsed": false,
     "input": [
      "print type(x)"
     ],
     "language": "python",
     "metadata": {},
     "outputs": [
      {
       "output_type": "stream",
       "stream": "stdout",
       "text": [
        "<type 'numpy.ndarray'>\n"
       ]
      }
     ],
     "prompt_number": 50
    },
    {
     "cell_type": "code",
     "collapsed": false,
     "input": [
      "import pandas as pd\n",
      "frame = pd.DataFrame(x,y_pred_lr)\n",
      "frame.to_csv('output.csv')"
     ],
     "language": "python",
     "metadata": {},
     "outputs": [],
     "prompt_number": 51
    },
    {
     "cell_type": "code",
     "collapsed": false,
     "input": [
      "from sklearn.naive_bayes import BernoulliNB\n",
      "clf = BernoulliNB()\n",
      "clf.fit(X,y)"
     ],
     "language": "python",
     "metadata": {},
     "outputs": [
      {
       "metadata": {},
       "output_type": "pyout",
       "prompt_number": 52,
       "text": [
        "BernoulliNB(alpha=1.0, binarize=0.0, class_prior=None, fit_prior=True)"
       ]
      }
     ],
     "prompt_number": 52
    },
    {
     "cell_type": "code",
     "collapsed": false,
     "input": [
      "y_pred_clf = clf.predict(test_X) #results"
     ],
     "language": "python",
     "metadata": {},
     "outputs": [],
     "prompt_number": 53
    },
    {
     "cell_type": "code",
     "collapsed": false,
     "input": [
      "frame = pd.DataFrame(x,y_pred_clf)\n",
      "frame.to_csv('output1.csv')"
     ],
     "language": "python",
     "metadata": {},
     "outputs": [],
     "prompt_number": 54
    },
    {
     "cell_type": "code",
     "collapsed": false,
     "input": [
      "from sklearn import tree\n",
      "treeclf = tree.DecisionTreeClassifier()\n",
      "treeclf.fit(X.toarray(),y)"
     ],
     "language": "python",
     "metadata": {},
     "outputs": [
      {
       "metadata": {},
       "output_type": "pyout",
       "prompt_number": 55,
       "text": [
        "DecisionTreeClassifier(compute_importances=None, criterion='gini',\n",
        "            max_depth=None, max_features=None, max_leaf_nodes=None,\n",
        "            min_density=None, min_samples_leaf=1, min_samples_split=2,\n",
        "            random_state=None, splitter='best')"
       ]
      }
     ],
     "prompt_number": 55
    },
    {
     "cell_type": "code",
     "collapsed": false,
     "input": [
      "y_pred_treeclf = treeclf.predict(test_X.toarray()) #results"
     ],
     "language": "python",
     "metadata": {},
     "outputs": [],
     "prompt_number": 56
    },
    {
     "cell_type": "code",
     "collapsed": false,
     "input": [
      "frame = pd.DataFrame(x,y_pred_treeclf)\n",
      "frame.to_csv('output2.csv')"
     ],
     "language": "python",
     "metadata": {},
     "outputs": [],
     "prompt_number": 57
    },
    {
     "cell_type": "markdown",
     "metadata": {},
     "source": [
      "*We haven't done much of data cleaning. Let us try to look at each featue and try to optimise it for our particular use case*"
     ]
    },
    {
     "cell_type": "raw",
     "metadata": {},
     "source": [
      "Attributes which can account for analysis :\n",
      "sex             Sex \n",
      "age             Age\n",
      "sibsp           Number of Siblings/Spouses Aboard\n",
      "parch           Number of Parents/Children Aboard\n",
      "fare            Passenger Fare\n",
      "cabin           Cabin\n",
      "embarked        Port of Embarkation\n",
      "\n"
     ]
    }
   ],
   "metadata": {}
  }
 ]
}